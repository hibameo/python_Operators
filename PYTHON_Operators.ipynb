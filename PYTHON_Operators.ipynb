{
  "nbformat": 4,
  "nbformat_minor": 0,
  "metadata": {
    "colab": {
      "provenance": [],
      "authorship_tag": "ABX9TyPGz9SaPyIFADG1BUDNq7R6",
      "include_colab_link": true
    },
    "kernelspec": {
      "name": "python3",
      "display_name": "Python 3"
    },
    "language_info": {
      "name": "python"
    }
  },
  "cells": [
    {
      "cell_type": "markdown",
      "metadata": {
        "id": "view-in-github",
        "colab_type": "text"
      },
      "source": [
        "<a href=\"https://colab.research.google.com/github/hibameo/python_Operators/blob/main/PYTHON_Operators.ipynb\" target=\"_parent\"><img src=\"https://colab.research.google.com/assets/colab-badge.svg\" alt=\"Open In Colab\"/></a>"
      ]
    },
    {
      "cell_type": "markdown",
      "source": [
        "🔹 1. Arithmetic Operators"
      ],
      "metadata": {
        "id": "WCukY_6tT2y6"
      }
    },
    {
      "cell_type": "markdown",
      "source": [
        "Ye math wale operations karte hain."
      ],
      "metadata": {
        "id": "p-aMa5bLUG9l"
      }
    },
    {
      "cell_type": "markdown",
      "source": [
        "Operator   :   +\n",
        "\n",
        "Meaning\t: Addition\n",
        "\n",
        "Example\t : 5 + 3\n",
        "\n",
        "Result : 8"
      ],
      "metadata": {
        "id": "oY4ykcYnUJ8L"
      }
    },
    {
      "cell_type": "markdown",
      "source": [
        "Operator :   -\n",
        "\n",
        "Meaning : Subtraction\n",
        "\n",
        "Example : 10 - 4\n",
        "\n",
        "Result : \t6\n"
      ],
      "metadata": {
        "id": "XE34cXdxU9yT"
      }
    },
    {
      "cell_type": "markdown",
      "source": [
        "Operator : *\n",
        "\n",
        "Meaning : Multiplication\n",
        "\n",
        "Example :  2 * 3\n",
        "\n",
        "Result :  6"
      ],
      "metadata": {
        "id": "bfjbjNQOV9qJ"
      }
    },
    {
      "cell_type": "markdown",
      "source": [
        "Operator :   /\n",
        "\n",
        "Meaning :  Division\n",
        "\n",
        "Example :   8 / 2\n",
        "\n",
        "Result :  \t4.0\n"
      ],
      "metadata": {
        "id": "eRN1SPQ9XPs6"
      }
    },
    {
      "cell_type": "markdown",
      "source": [
        "✅ Example:"
      ],
      "metadata": {
        "id": "XBqJl4-CYWmb"
      }
    },
    {
      "cell_type": "code",
      "source": [
        "a = 10\n",
        "b = 3\n",
        "\n",
        "print(a + b)   # 13\n",
        "print(a - b)   # 7\n",
        "print(a * b)   # 30\n",
        "print(a / b)   # 3.333...\n",
        "print(a // b)  # 3\n",
        "print(a % b)   # 1\n",
        "print(a ** b)  # 1000\n"
      ],
      "metadata": {
        "colab": {
          "base_uri": "https://localhost:8080/"
        },
        "id": "z1bGF_0JYY-Y",
        "outputId": "5ac443ed-2528-4803-a0fa-73da8429d860"
      },
      "execution_count": 3,
      "outputs": [
        {
          "output_type": "stream",
          "name": "stdout",
          "text": [
            "13\n",
            "7\n",
            "30\n",
            "3.3333333333333335\n",
            "3\n",
            "1\n",
            "1000\n"
          ]
        }
      ]
    },
    {
      "cell_type": "markdown",
      "source": [
        "🔹 2. Comparison Operators"
      ],
      "metadata": {
        "id": "46G04nOgZnuo"
      }
    },
    {
      "cell_type": "markdown",
      "source": [
        "Ye do values ko compare karte hain aur True ya False return karte hain."
      ],
      "metadata": {
        "id": "PUUmwmuTZq4c"
      }
    },
    {
      "cell_type": "markdown",
      "source": [
        "Operator : ==\n",
        "\n",
        "Meaning : \tEqual to\n",
        "\n",
        "Example : 5 == 5\n",
        "\n",
        "Result : True"
      ],
      "metadata": {
        "id": "P89Cz6ExZuJc"
      }
    },
    {
      "cell_type": "markdown",
      "source": [
        "Operator : !=\n",
        "\n",
        "Meaning : \tNot equal to\n",
        "\n",
        "Example : \t5 != 3\n",
        "\n",
        "Result :  \tTrue"
      ],
      "metadata": {
        "id": "pCAyd8HxaTBw"
      }
    },
    {
      "cell_type": "markdown",
      "source": [
        "Operator : >\n",
        "\n",
        "Meaning : Greater than\n",
        "\n",
        "Example : \t7 > 3\n",
        "\n",
        "Result :  True"
      ],
      "metadata": {
        "id": "il8JAJ0XamYJ"
      }
    },
    {
      "cell_type": "markdown",
      "source": [
        "Operator : <\n",
        "\n",
        "Meaning : \tLess than\n",
        "\n",
        "Example : \t2 < 4\n",
        "\n",
        "Result :  True"
      ],
      "metadata": {
        "id": "kAmxHggpa4dE"
      }
    },
    {
      "cell_type": "markdown",
      "source": [
        "Operator : >=\n",
        "\n",
        "Meaning : \t\tGreater or Equal\n",
        "\n",
        "Example : \t4 >= 4\n",
        "\n",
        "Result :  True"
      ],
      "metadata": {
        "id": "LYZVpPSwbRVP"
      }
    },
    {
      "cell_type": "markdown",
      "source": [
        "Operator : <=\n",
        "\n",
        "Meaning :  Less or Equal\n",
        "\n",
        "Example : \t3 <= 2\n",
        "\n",
        "Result :  False"
      ],
      "metadata": {
        "id": "K1L6VU-mbxj-"
      }
    },
    {
      "cell_type": "markdown",
      "source": [
        "✅ Example:"
      ],
      "metadata": {
        "id": "q2ltt74EcTqp"
      }
    },
    {
      "cell_type": "code",
      "source": [
        "x = 6\n",
        "y = 10\n",
        "\n",
        "print(x == y)   # False\n",
        "print(x != y)   # True\n",
        "print(x > y)    # False\n",
        "print(x < y)    # True\n",
        "print(x >= 6)   # True\n",
        "print(y <= 9)   # False\n"
      ],
      "metadata": {
        "colab": {
          "base_uri": "https://localhost:8080/"
        },
        "id": "tIm9CORPcWvT",
        "outputId": "bbc06a14-c3ba-4c06-8376-06740be90975"
      },
      "execution_count": 4,
      "outputs": [
        {
          "output_type": "stream",
          "name": "stdout",
          "text": [
            "False\n",
            "True\n",
            "False\n",
            "True\n",
            "True\n",
            "False\n"
          ]
        }
      ]
    },
    {
      "cell_type": "markdown",
      "source": [
        "🔹 3. Logical Operators"
      ],
      "metadata": {
        "id": "cok70aFncaiJ"
      }
    },
    {
      "cell_type": "markdown",
      "source": [
        "Ye multiple conditions ko combine karte hain."
      ],
      "metadata": {
        "id": "rH0A0qVNcwb8"
      }
    },
    {
      "cell_type": "markdown",
      "source": [
        "Operator : and\n",
        "\n",
        "Meaning : \tDono condition true hon\n",
        "\n",
        "Example : \tTrue and False\n",
        "\n",
        "Result :  False\n"
      ],
      "metadata": {
        "id": "4m4x81poc-dr"
      }
    },
    {
      "cell_type": "markdown",
      "source": [
        "Operator : or\n",
        "\n",
        "Meaning : \tKoi ek condition true ho\n",
        "\n",
        "Example : \tTrue or False\n",
        "\n",
        "Result :    True"
      ],
      "metadata": {
        "id": "cJv2yeuldhsB"
      }
    },
    {
      "cell_type": "markdown",
      "source": [
        "Operator : not\n",
        "\n",
        "Meaning : Condition ko ulta kar deta hai\n",
        "\n",
        "Example : \tnot True\n",
        "\n",
        "Result :     False\n"
      ],
      "metadata": {
        "id": "Y4sLaiSIeGT6"
      }
    },
    {
      "cell_type": "markdown",
      "source": [
        "✅ Example:"
      ],
      "metadata": {
        "id": "xq3M_WwLeldN"
      }
    },
    {
      "cell_type": "code",
      "source": [
        "a = 5\n",
        "b = 10\n",
        "\n",
        "print(a > 2 and b > 5)   # True\n",
        "print(a < 2 or b > 5)    # True\n",
        "print(not a == 5)        # False\n"
      ],
      "metadata": {
        "colab": {
          "base_uri": "https://localhost:8080/"
        },
        "id": "_HqbHdCpenMh",
        "outputId": "9df3b717-b486-4b2d-e3cc-55bf3c7f7c9e"
      },
      "execution_count": 5,
      "outputs": [
        {
          "output_type": "stream",
          "name": "stdout",
          "text": [
            "True\n",
            "True\n",
            "False\n"
          ]
        }
      ]
    },
    {
      "cell_type": "markdown",
      "source": [
        "🔹 4. Assignment Operators"
      ],
      "metadata": {
        "id": "kxtDQ4GXeytl"
      }
    },
    {
      "cell_type": "markdown",
      "source": [
        "Ye variables ko value assign karte hain."
      ],
      "metadata": {
        "id": "ZD0FgSWle2ou"
      }
    },
    {
      "cell_type": "markdown",
      "source": [
        "Operator : =\n",
        "\n",
        "Meaning : \tAssign value\n",
        "\n",
        "Example : x = 5"
      ],
      "metadata": {
        "id": "X-H6qedNe7xQ"
      }
    },
    {
      "cell_type": "markdown",
      "source": [
        "Operator : +=\n",
        "\n",
        "Meaning : \tx = x + 3\n",
        "\n",
        "Example :   \tx += 3"
      ],
      "metadata": {
        "id": "CWUO5wbMfPC0"
      }
    },
    {
      "cell_type": "markdown",
      "source": [
        "Operator :     -=\n",
        "\n",
        "Meaning : \t\tx = x - 2\n",
        "\n",
        "Example :      x -= 2"
      ],
      "metadata": {
        "id": "iqWBbuP2gDYN"
      }
    },
    {
      "cell_type": "markdown",
      "source": [
        "Operator :     *=\n",
        "\n",
        "Meaning : \t\tx = x * 4\n",
        "\n",
        "Example :      x *= 4"
      ],
      "metadata": {
        "id": "4lbj42NlgZ8X"
      }
    },
    {
      "cell_type": "markdown",
      "source": [
        "Operator :     /=\n",
        "\n",
        "Meaning : \t\tx = x / 2\n",
        "\n",
        "Example :     x /= 2"
      ],
      "metadata": {
        "id": "K8FDRGgbgu0Q"
      }
    },
    {
      "cell_type": "markdown",
      "source": [
        "✅ Example:\n"
      ],
      "metadata": {
        "id": "pD9H8RqzhGYY"
      }
    },
    {
      "cell_type": "code",
      "source": [
        "x = 10\n",
        "x += 5   # x = x + 5 → 15\n",
        "x *= 2   # x = x * 2 → 30\n",
        "print(x) # 30\n"
      ],
      "metadata": {
        "colab": {
          "base_uri": "https://localhost:8080/"
        },
        "id": "g-0z4-7ohLoh",
        "outputId": "275152b2-b6d3-4899-ee0f-98a794fff227"
      },
      "execution_count": 6,
      "outputs": [
        {
          "output_type": "stream",
          "name": "stdout",
          "text": [
            "30\n"
          ]
        }
      ]
    }
  ]
}